{
 "cells": [
  {
   "cell_type": "code",
   "execution_count": 1,
   "id": "f95bdd4f-5a60-400d-ba37-a1099fe8525b",
   "metadata": {},
   "outputs": [
    {
     "data": {
      "text/html": [
       "<table class=\"dataframe\">\n",
       "<caption>A matrix: 2 × 6 of type dbl</caption>\n",
       "<thead>\n",
       "\t<tr><th></th><th scope=col>used</th><th scope=col>(Mb)</th><th scope=col>gc trigger</th><th scope=col>(Mb)</th><th scope=col>max used</th><th scope=col>(Mb)</th></tr>\n",
       "</thead>\n",
       "<tbody>\n",
       "\t<tr><th scope=row>Ncells</th><td> 614575</td><td>32.9</td><td>1330081</td><td>71.1</td><td>1330081</td><td>71.1</td></tr>\n",
       "\t<tr><th scope=row>Vcells</th><td>1154307</td><td> 8.9</td><td>8388608</td><td>64.0</td><td>1801065</td><td>13.8</td></tr>\n",
       "</tbody>\n",
       "</table>\n"
      ],
      "text/latex": [
       "A matrix: 2 × 6 of type dbl\n",
       "\\begin{tabular}{r|llllll}\n",
       "  & used & (Mb) & gc trigger & (Mb) & max used & (Mb)\\\\\n",
       "\\hline\n",
       "\tNcells &  614575 & 32.9 & 1330081 & 71.1 & 1330081 & 71.1\\\\\n",
       "\tVcells & 1154307 &  8.9 & 8388608 & 64.0 & 1801065 & 13.8\\\\\n",
       "\\end{tabular}\n"
      ],
      "text/markdown": [
       "\n",
       "A matrix: 2 × 6 of type dbl\n",
       "\n",
       "| <!--/--> | used | (Mb) | gc trigger | (Mb) | max used | (Mb) |\n",
       "|---|---|---|---|---|---|---|\n",
       "| Ncells |  614575 | 32.9 | 1330081 | 71.1 | 1330081 | 71.1 |\n",
       "| Vcells | 1154307 |  8.9 | 8388608 | 64.0 | 1801065 | 13.8 |\n",
       "\n"
      ],
      "text/plain": [
       "       used    (Mb) gc trigger (Mb) max used (Mb)\n",
       "Ncells  614575 32.9 1330081    71.1 1330081  71.1\n",
       "Vcells 1154307  8.9 8388608    64.0 1801065  13.8"
      ]
     },
     "metadata": {},
     "output_type": "display_data"
    },
    {
     "name": "stderr",
     "output_type": "stream",
     "text": [
      "Loading required package: data.table\n",
      "\n"
     ]
    }
   ],
   "source": [
    "rm( list=ls() )  #remove all objects\n",
    "gc()             #garbage collection\n",
    "\n",
    "require(\"data.table\")\n",
    "\n",
    "\n",
    "\n",
    "#Parametros del script\n",
    "kexperimento  <- \"TS7311\"\n",
    "\n",
    "kexp_input  <- \"FE7250\"\n",
    "\n",
    "kfuture       <- c( 202105 )\n",
    "\n",
    "kfinal_train  <- c( 202101, 202102, 202103 )\n",
    "\n",
    "ktraining     <- c( 202101, 202102, 202103 )\n",
    "kvalidation   <- c( 202101, 202102, 202103 )\n",
    "ktesting      <- c( 202101, 202102, 202103 )\n",
    "# FIN Parametros del script\n",
    "\n",
    "#------------------------------------------------------------------------------\n",
    "\n",
    "options(error = function() { \n",
    "  traceback(20); \n",
    "  options(error = NULL); \n",
    "  stop(\"exiting after script error\") \n",
    "})\n",
    "\n",
    "#------------------------------------------------------------------------------\n",
    "#Aqui empieza el programa\n",
    "\n",
    "setwd( \"~/buckets/b1/\" )\n",
    "\n",
    "#cargo el dataset donde voy a entrenar\n",
    "#esta en la carpeta del exp_input y siempre se llama  dataset.csv.gz\n",
    "dataset_input  <- paste0( \"./exp/\", kexp_input, \"/dataset.csv.gz\" )\n",
    "dataset  <- fread( dataset_input )\n",
    "\n",
    "\n",
    "#creo la carpeta donde va el experimento\n",
    "dir.create( paste0( \"./exp/\", kexperimento, \"/\"), showWarnings = FALSE )\n",
    "setwd(paste0( \"./exp/\", kexperimento, \"/\"))   #Establezco el Working Directory DEL EXPERIMENTO\n",
    "\n",
    "\n",
    "setorder( dataset, foto_mes, numero_de_cliente )\n",
    "\n",
    "#grabo los datos del futuro\n",
    "fwrite( dataset[ foto_mes %in% kfuture, ],\n",
    "        file= \"dataset_future.csv.gz\",\n",
    "        logical01= TRUE,\n",
    "        sep= \",\" )\n",
    "\n",
    "#grabo los datos donde voy a entrenar los Final Models\n",
    "fwrite( dataset[ foto_mes %in% kfinal_train, ],\n",
    "        file= \"dataset_train_final.csv.gz\",\n",
    "        logical01= TRUE,\n",
    "        sep= \",\" )\n",
    "\n",
    "\n",
    "#grabo los datos donde voy a hacer el training y la optimizacion de hiperparametros\n",
    "dataset[  , fold_train := 0L ]\n",
    "dataset[ foto_mes %in% ktraining, fold_train := 1L ]\n",
    "\n",
    "dataset[  , fold_validate := 0L ]\n",
    "dataset[ foto_mes %in% kvalidation, fold_validate := 1L ]\n",
    "\n",
    "dataset[  , fold_test := 0L ]\n",
    "dataset[ foto_mes %in% ktesting, fold_test := 1L ]\n",
    "\n",
    "fwrite( dataset[ fold_train + fold_validate + fold_test >= 1 , ],\n",
    "        file= \"dataset_training.csv.gz\",\n",
    "        logical01= TRUE,\n",
    "        sep= \",\" )\n"
   ]
  },
  {
   "cell_type": "code",
   "execution_count": null,
   "id": "9b868fa0-a59e-447b-97a0-1bb2245b04b2",
   "metadata": {},
   "outputs": [],
   "source": []
  },
  {
   "cell_type": "code",
   "execution_count": 2,
   "id": "fa4e0a85-fc9b-4214-b3c0-49c1a55f1f46",
   "metadata": {},
   "outputs": [
    {
     "data": {
      "text/html": [
       "<table class=\"dataframe\">\n",
       "<caption>A matrix: 2 × 6 of type dbl</caption>\n",
       "<thead>\n",
       "\t<tr><th></th><th scope=col>used</th><th scope=col>(Mb)</th><th scope=col>gc trigger</th><th scope=col>(Mb)</th><th scope=col>max used</th><th scope=col>(Mb)</th></tr>\n",
       "</thead>\n",
       "<tbody>\n",
       "\t<tr><th scope=row>Ncells</th><td> 729794</td><td>39.0</td><td>   1330081</td><td>   71.1</td><td>   1330081</td><td>   71.1</td></tr>\n",
       "\t<tr><th scope=row>Vcells</th><td>1446087</td><td>11.1</td><td>3923897447</td><td>29937.0</td><td>4903322314</td><td>37409.4</td></tr>\n",
       "</tbody>\n",
       "</table>\n"
      ],
      "text/latex": [
       "A matrix: 2 × 6 of type dbl\n",
       "\\begin{tabular}{r|llllll}\n",
       "  & used & (Mb) & gc trigger & (Mb) & max used & (Mb)\\\\\n",
       "\\hline\n",
       "\tNcells &  729794 & 39.0 &    1330081 &    71.1 &    1330081 &    71.1\\\\\n",
       "\tVcells & 1446087 & 11.1 & 3923897447 & 29937.0 & 4903322314 & 37409.4\\\\\n",
       "\\end{tabular}\n"
      ],
      "text/markdown": [
       "\n",
       "A matrix: 2 × 6 of type dbl\n",
       "\n",
       "| <!--/--> | used | (Mb) | gc trigger | (Mb) | max used | (Mb) |\n",
       "|---|---|---|---|---|---|---|\n",
       "| Ncells |  729794 | 39.0 |    1330081 |    71.1 |    1330081 |    71.1 |\n",
       "| Vcells | 1446087 | 11.1 | 3923897447 | 29937.0 | 4903322314 | 37409.4 |\n",
       "\n"
      ],
      "text/plain": [
       "       used    (Mb) gc trigger (Mb)    max used   (Mb)   \n",
       "Ncells  729794 39.0    1330081    71.1    1330081    71.1\n",
       "Vcells 1446087 11.1 3923897447 29937.0 4903322314 37409.4"
      ]
     },
     "metadata": {},
     "output_type": "display_data"
    },
    {
     "data": {
      "text/html": [
       "<table class=\"dataframe\">\n",
       "<caption>A matrix: 2 × 6 of type dbl</caption>\n",
       "<thead>\n",
       "\t<tr><th></th><th scope=col>used</th><th scope=col>(Mb)</th><th scope=col>gc trigger</th><th scope=col>(Mb)</th><th scope=col>max used</th><th scope=col>(Mb)</th></tr>\n",
       "</thead>\n",
       "<tbody>\n",
       "\t<tr><th scope=row>Ncells</th><td> 729631</td><td>39.0</td><td>   1330081</td><td>   71.1</td><td>   1330081</td><td>   71.1</td></tr>\n",
       "\t<tr><th scope=row>Vcells</th><td>1383257</td><td>10.6</td><td>4522740416</td><td>34505.8</td><td>4903322314</td><td>37409.4</td></tr>\n",
       "</tbody>\n",
       "</table>\n"
      ],
      "text/latex": [
       "A matrix: 2 × 6 of type dbl\n",
       "\\begin{tabular}{r|llllll}\n",
       "  & used & (Mb) & gc trigger & (Mb) & max used & (Mb)\\\\\n",
       "\\hline\n",
       "\tNcells &  729631 & 39.0 &    1330081 &    71.1 &    1330081 &    71.1\\\\\n",
       "\tVcells & 1383257 & 10.6 & 4522740416 & 34505.8 & 4903322314 & 37409.4\\\\\n",
       "\\end{tabular}\n"
      ],
      "text/markdown": [
       "\n",
       "A matrix: 2 × 6 of type dbl\n",
       "\n",
       "| <!--/--> | used | (Mb) | gc trigger | (Mb) | max used | (Mb) |\n",
       "|---|---|---|---|---|---|---|\n",
       "| Ncells |  729631 | 39.0 |    1330081 |    71.1 |    1330081 |    71.1 |\n",
       "| Vcells | 1383257 | 10.6 | 4522740416 | 34505.8 | 4903322314 | 37409.4 |\n",
       "\n"
      ],
      "text/plain": [
       "       used    (Mb) gc trigger (Mb)    max used   (Mb)   \n",
       "Ncells  729631 39.0    1330081    71.1    1330081    71.1\n",
       "Vcells 1383257 10.6 4522740416 34505.8 4903322314 37409.4"
      ]
     },
     "metadata": {},
     "output_type": "display_data"
    },
    {
     "data": {
      "text/html": [
       "<table class=\"dataframe\">\n",
       "<caption>A matrix: 2 × 6 of type dbl</caption>\n",
       "<thead>\n",
       "\t<tr><th></th><th scope=col>used</th><th scope=col>(Mb)</th><th scope=col>gc trigger</th><th scope=col>(Mb)</th><th scope=col>max used</th><th scope=col>(Mb)</th></tr>\n",
       "</thead>\n",
       "<tbody>\n",
       "\t<tr><th scope=row>Ncells</th><td> 730486</td><td>39.1</td><td>   1330081</td><td>   71.1</td><td>   1330081</td><td>   71.1</td></tr>\n",
       "\t<tr><th scope=row>Vcells</th><td>1385466</td><td>10.6</td><td>3618192333</td><td>27604.7</td><td>4903322314</td><td>37409.4</td></tr>\n",
       "</tbody>\n",
       "</table>\n"
      ],
      "text/latex": [
       "A matrix: 2 × 6 of type dbl\n",
       "\\begin{tabular}{r|llllll}\n",
       "  & used & (Mb) & gc trigger & (Mb) & max used & (Mb)\\\\\n",
       "\\hline\n",
       "\tNcells &  730486 & 39.1 &    1330081 &    71.1 &    1330081 &    71.1\\\\\n",
       "\tVcells & 1385466 & 10.6 & 3618192333 & 27604.7 & 4903322314 & 37409.4\\\\\n",
       "\\end{tabular}\n"
      ],
      "text/markdown": [
       "\n",
       "A matrix: 2 × 6 of type dbl\n",
       "\n",
       "| <!--/--> | used | (Mb) | gc trigger | (Mb) | max used | (Mb) |\n",
       "|---|---|---|---|---|---|---|\n",
       "| Ncells |  730486 | 39.1 |    1330081 |    71.1 |    1330081 |    71.1 |\n",
       "| Vcells | 1385466 | 10.6 | 3618192333 | 27604.7 | 4903322314 | 37409.4 |\n",
       "\n"
      ],
      "text/plain": [
       "       used    (Mb) gc trigger (Mb)    max used   (Mb)   \n",
       "Ncells  730486 39.1    1330081    71.1    1330081    71.1\n",
       "Vcells 1385466 10.6 3618192333 27604.7 4903322314 37409.4"
      ]
     },
     "metadata": {},
     "output_type": "display_data"
    },
    {
     "ename": "ERROR",
     "evalue": "Error in fwrite(dataset[foto_mes %in% periodo, ], file = arch_train_final, : No such file or directory: './exp/TS7312/dataset_train_final.csv.gz'. Unable to create new file for writing (it does not exist already). Do you have permission to write here, is there space on the disk and does the path exist?\n",
     "output_type": "error",
     "traceback": [
      "Error in fwrite(dataset[foto_mes %in% periodo, ], file = arch_train_final, : No such file or directory: './exp/TS7312/dataset_train_final.csv.gz'. Unable to create new file for writing (it does not exist already). Do you have permission to write here, is there space on the disk and does the path exist?\nTraceback:\n",
      "1. generar_final_training(\"FE7250\", \"TS7312\", c(202012, 202101, \n .     202102, 202103))",
      "2. fwrite(dataset[foto_mes %in% periodo, ], file = arch_train_final, \n .     logical01 = TRUE, sep = \",\")   # at line 23-26 of file <text>"
     ]
    }
   ],
   "source": [
    "#limpio la memoria\n",
    "rm( list=ls() )  #remove all objects\n",
    "gc()             #garbage collection\n",
    "\n",
    "require(\"data.table\")\n",
    "\n",
    "#------------------------------------------------------------------------------\n",
    "options(error = function() { \n",
    "  traceback(20); \n",
    "  options(error = NULL); \n",
    "  stop(\"exiting after script error\") \n",
    "})\n",
    "#------------------------------------------------------------------------------\n",
    "\n",
    "generar_final_training  <- function( FE, TS, periodo )\n",
    "{\n",
    "  arch_FE  <- paste0( \"./exp/\", FE, \"/dataset.csv.gz\" )\n",
    "  dataset  <- fread( arch_FE )\n",
    "\n",
    "  arch_train_final  <- paste0( \"./exp/\", TS, \"/dataset_train_final.csv.gz\" )\n",
    "\n",
    "  #grabo los datos donde voy a entrenar los Final Models\n",
    "  fwrite( dataset[ foto_mes %in% periodo, ],\n",
    "          file= arch_train_final,\n",
    "          logical01= TRUE,\n",
    "          sep= \",\" )\n",
    "\n",
    "  rm( dataset )\n",
    "  gc()\n",
    "}\n",
    "#------------------------------------------------------------------------------\n",
    "#------------------------------------------------------------------------------\n",
    "#Aqui empieza el programa\n",
    "\n",
    "setwd( \"~/buckets/b1/\" )\n",
    "\n",
    "\n",
    "generar_final_training( \"FE7250\", \"TS7310\", c( 202103 ) )\n",
    "generar_final_training( \"FE7250\", \"TS7311\", c( 202101, 202102, 202103 ) )\n",
    "generar_final_training( \"FE7250\", \"TS7312\", c( 202012, 202101, 202102, 202103 ) )\n",
    "generar_final_training( \"FE7250\", \"TS7313\", c( 202005, 202101, 202102, 202103 ) )\n",
    "\n",
    "generar_final_training( \"FE7252\", \"TS7314\", c( 202101, 202102, 202103 ) )\n",
    "generar_final_training( \"FE7252\", \"TS7315\", c( 202101, 202102, 202103 ) )\n",
    "\n",
    "generar_final_training( \"FE7253\", \"TS7316\", c( 202101, 202102, 202103 ) )\n",
    "\n",
    "generar_final_training( \"FE7256\", \"TS7318\", c( 202101, 202102, 202103 ) )\n",
    "\n",
    "cat( \"Ha finalizado la actualizacion.\\n\")\n",
    "date()"
   ]
  },
  {
   "cell_type": "code",
   "execution_count": null,
   "id": "28d1b2ad-7870-4e68-9d52-760140398954",
   "metadata": {},
   "outputs": [],
   "source": []
  }
 ],
 "metadata": {
  "kernelspec": {
   "display_name": "R",
   "language": "R",
   "name": "ir"
  },
  "language_info": {
   "codemirror_mode": "r",
   "file_extension": ".r",
   "mimetype": "text/x-r-source",
   "name": "R",
   "pygments_lexer": "r",
   "version": "4.2.1"
  }
 },
 "nbformat": 4,
 "nbformat_minor": 5
}
