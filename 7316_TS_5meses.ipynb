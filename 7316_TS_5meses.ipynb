{
 "cells": [
  {
   "cell_type": "code",
   "execution_count": 1,
   "id": "f95bdd4f-5a60-400d-ba37-a1099fe8525b",
   "metadata": {},
   "outputs": [
    {
     "data": {
      "text/html": [
       "<table class=\"dataframe\">\n",
       "<caption>A matrix: 2 × 6 of type dbl</caption>\n",
       "<thead>\n",
       "\t<tr><th></th><th scope=col>used</th><th scope=col>(Mb)</th><th scope=col>gc trigger</th><th scope=col>(Mb)</th><th scope=col>max used</th><th scope=col>(Mb)</th></tr>\n",
       "</thead>\n",
       "<tbody>\n",
       "\t<tr><th scope=row>Ncells</th><td> 614549</td><td>32.9</td><td>1330081</td><td>71.1</td><td>1235671</td><td>66.0</td></tr>\n",
       "\t<tr><th scope=row>Vcells</th><td>1154794</td><td> 8.9</td><td>8388608</td><td>64.0</td><td>1801065</td><td>13.8</td></tr>\n",
       "</tbody>\n",
       "</table>\n"
      ],
      "text/latex": [
       "A matrix: 2 × 6 of type dbl\n",
       "\\begin{tabular}{r|llllll}\n",
       "  & used & (Mb) & gc trigger & (Mb) & max used & (Mb)\\\\\n",
       "\\hline\n",
       "\tNcells &  614549 & 32.9 & 1330081 & 71.1 & 1235671 & 66.0\\\\\n",
       "\tVcells & 1154794 &  8.9 & 8388608 & 64.0 & 1801065 & 13.8\\\\\n",
       "\\end{tabular}\n"
      ],
      "text/markdown": [
       "\n",
       "A matrix: 2 × 6 of type dbl\n",
       "\n",
       "| <!--/--> | used | (Mb) | gc trigger | (Mb) | max used | (Mb) |\n",
       "|---|---|---|---|---|---|---|\n",
       "| Ncells |  614549 | 32.9 | 1330081 | 71.1 | 1235671 | 66.0 |\n",
       "| Vcells | 1154794 |  8.9 | 8388608 | 64.0 | 1801065 | 13.8 |\n",
       "\n"
      ],
      "text/plain": [
       "       used    (Mb) gc trigger (Mb) max used (Mb)\n",
       "Ncells  614549 32.9 1330081    71.1 1235671  66.0\n",
       "Vcells 1154794  8.9 8388608    64.0 1801065  13.8"
      ]
     },
     "metadata": {},
     "output_type": "display_data"
    },
    {
     "name": "stderr",
     "output_type": "stream",
     "text": [
      "Loading required package: data.table\n",
      "\n"
     ]
    }
   ],
   "source": [
    "rm( list=ls() )  #remove all objects\n",
    "gc()             #garbage collection\n",
    "\n",
    "require(\"data.table\")\n",
    "\n",
    "\n",
    "\n",
    "#Parametros del script\n",
    "kexperimento  <- \"TS7315\"\n",
    "\n",
    "kexp_input  <- \"FE7250\"\n",
    "\n",
    "kfuture       <- c( 202105 )\n",
    "\n",
    "kfinal_train  <- c( 202101, 202102, 202103, 202004,202005,202006,202007,202008,202009,202010,202011,202012 )\n",
    "\n",
    "ktraining     <- c( 202101, 202102, 202103, 202004,202005,202006,202007,202008,202009,202010,202011,202012 )\n",
    "kvalidation   <- c(202101, 202102, 202103, 202004,202005,202006,202007,202008,202009,202010,202011,202012 )\n",
    "ktesting      <- c( 202101, 202102, 202103, 202004,202005,202006,202007,202008,202009,202010,202011,202012 )\n",
    "# FIN Parametros del script\n",
    "\n",
    "#------------------------------------------------------------------------------\n",
    "\n",
    "options(error = function() { \n",
    "  traceback(20); \n",
    "  options(error = NULL); \n",
    "  stop(\"exiting after script error\") \n",
    "})\n",
    "\n",
    "#------------------------------------------------------------------------------\n",
    "#Aqui empieza el programa\n",
    "\n",
    "setwd( \"~/buckets/b1/\" )\n",
    "\n",
    "#cargo el dataset donde voy a entrenar\n",
    "#esta en la carpeta del exp_input y siempre se llama  dataset.csv.gz\n",
    "dataset_input  <- paste0( \"./exp/\", kexp_input, \"/dataset.csv.gz\" )\n",
    "dataset  <- fread( dataset_input )\n",
    "\n",
    "\n",
    "#creo la carpeta donde va el experimento\n",
    "dir.create( paste0( \"./exp/\", kexperimento, \"/\"), showWarnings = FALSE )\n",
    "setwd(paste0( \"./exp/\", kexperimento, \"/\"))   #Establezco el Working Directory DEL EXPERIMENTO\n",
    "\n",
    "\n",
    "setorder( dataset, foto_mes, numero_de_cliente )\n",
    "\n",
    "#grabo los datos del futuro\n",
    "fwrite( dataset[ foto_mes %in% kfuture, ],\n",
    "        file= \"dataset_future.csv.gz\",\n",
    "        logical01= TRUE,\n",
    "        sep= \",\" )\n",
    "\n",
    "#grabo los datos donde voy a entrenar los Final Models\n",
    "fwrite( dataset[ foto_mes %in% kfinal_train, ],\n",
    "        file= \"dataset_train_final.csv.gz\",\n",
    "        logical01= TRUE,\n",
    "        sep= \",\" )\n",
    "\n",
    "\n",
    "#grabo los datos donde voy a hacer el training y la optimizacion de hiperparametros\n",
    "dataset[  , fold_train := 0L ]\n",
    "dataset[ foto_mes %in% ktraining, fold_train := 1L ]\n",
    "\n",
    "dataset[  , fold_validate := 0L ]\n",
    "dataset[ foto_mes %in% kvalidation, fold_validate := 1L ]\n",
    "\n",
    "dataset[  , fold_test := 0L ]\n",
    "dataset[ foto_mes %in% ktesting, fold_test := 1L ]\n",
    "\n",
    "fwrite( dataset[ fold_train + fold_validate + fold_test >= 1 , ],\n",
    "        file= \"dataset_training.csv.gz\",\n",
    "        logical01= TRUE,\n",
    "        sep= \",\" )\n"
   ]
  },
  {
   "cell_type": "code",
   "execution_count": null,
   "id": "9b868fa0-a59e-447b-97a0-1bb2245b04b2",
   "metadata": {},
   "outputs": [],
   "source": []
  },
  {
   "cell_type": "code",
   "execution_count": 3,
   "id": "fa4e0a85-fc9b-4214-b3c0-49c1a55f1f46",
   "metadata": {},
   "outputs": [
    {
     "data": {
      "text/html": [
       "<table class=\"dataframe\">\n",
       "<caption>A matrix: 2 × 6 of type dbl</caption>\n",
       "<thead>\n",
       "\t<tr><th></th><th scope=col>used</th><th scope=col>(Mb)</th><th scope=col>gc trigger</th><th scope=col>(Mb)</th><th scope=col>max used</th><th scope=col>(Mb)</th></tr>\n",
       "</thead>\n",
       "<tbody>\n",
       "\t<tr><th scope=row>Ncells</th><td> 730684</td><td>39.1</td><td>   1330081</td><td>   71.1</td><td>   1330081</td><td>   71.1</td></tr>\n",
       "\t<tr><th scope=row>Vcells</th><td>1372098</td><td>10.5</td><td>3139118437</td><td>23949.6</td><td>4903964245</td><td>37414.3</td></tr>\n",
       "</tbody>\n",
       "</table>\n"
      ],
      "text/latex": [
       "A matrix: 2 × 6 of type dbl\n",
       "\\begin{tabular}{r|llllll}\n",
       "  & used & (Mb) & gc trigger & (Mb) & max used & (Mb)\\\\\n",
       "\\hline\n",
       "\tNcells &  730684 & 39.1 &    1330081 &    71.1 &    1330081 &    71.1\\\\\n",
       "\tVcells & 1372098 & 10.5 & 3139118437 & 23949.6 & 4903964245 & 37414.3\\\\\n",
       "\\end{tabular}\n"
      ],
      "text/markdown": [
       "\n",
       "A matrix: 2 × 6 of type dbl\n",
       "\n",
       "| <!--/--> | used | (Mb) | gc trigger | (Mb) | max used | (Mb) |\n",
       "|---|---|---|---|---|---|---|\n",
       "| Ncells |  730684 | 39.1 |    1330081 |    71.1 |    1330081 |    71.1 |\n",
       "| Vcells | 1372098 | 10.5 | 3139118437 | 23949.6 | 4903964245 | 37414.3 |\n",
       "\n"
      ],
      "text/plain": [
       "       used    (Mb) gc trigger (Mb)    max used   (Mb)   \n",
       "Ncells  730684 39.1    1330081    71.1    1330081    71.1\n",
       "Vcells 1372098 10.5 3139118437 23949.6 4903964245 37414.3"
      ]
     },
     "metadata": {},
     "output_type": "display_data"
    },
    {
     "data": {
      "text/html": [
       "<table class=\"dataframe\">\n",
       "<caption>A matrix: 2 × 6 of type dbl</caption>\n",
       "<thead>\n",
       "\t<tr><th></th><th scope=col>used</th><th scope=col>(Mb)</th><th scope=col>gc trigger</th><th scope=col>(Mb)</th><th scope=col>max used</th><th scope=col>(Mb)</th></tr>\n",
       "</thead>\n",
       "<tbody>\n",
       "\t<tr><th scope=row>Ncells</th><td> 730892</td><td>39.1</td><td>   1330081</td><td>   71.1</td><td>   1330081</td><td>   71.1</td></tr>\n",
       "\t<tr><th scope=row>Vcells</th><td>1378390</td><td>10.6</td><td>4351672552</td><td>33200.7</td><td>5438998171</td><td>41496.3</td></tr>\n",
       "</tbody>\n",
       "</table>\n"
      ],
      "text/latex": [
       "A matrix: 2 × 6 of type dbl\n",
       "\\begin{tabular}{r|llllll}\n",
       "  & used & (Mb) & gc trigger & (Mb) & max used & (Mb)\\\\\n",
       "\\hline\n",
       "\tNcells &  730892 & 39.1 &    1330081 &    71.1 &    1330081 &    71.1\\\\\n",
       "\tVcells & 1378390 & 10.6 & 4351672552 & 33200.7 & 5438998171 & 41496.3\\\\\n",
       "\\end{tabular}\n"
      ],
      "text/markdown": [
       "\n",
       "A matrix: 2 × 6 of type dbl\n",
       "\n",
       "| <!--/--> | used | (Mb) | gc trigger | (Mb) | max used | (Mb) |\n",
       "|---|---|---|---|---|---|---|\n",
       "| Ncells |  730892 | 39.1 |    1330081 |    71.1 |    1330081 |    71.1 |\n",
       "| Vcells | 1378390 | 10.6 | 4351672552 | 33200.7 | 5438998171 | 41496.3 |\n",
       "\n"
      ],
      "text/plain": [
       "       used    (Mb) gc trigger (Mb)    max used   (Mb)   \n",
       "Ncells  730892 39.1    1330081    71.1    1330081    71.1\n",
       "Vcells 1378390 10.6 4351672552 33200.7 5438998171 41496.3"
      ]
     },
     "metadata": {},
     "output_type": "display_data"
    },
    {
     "name": "stdout",
     "output_type": "stream",
     "text": [
      "Ha finalizado la actualizacion.\n"
     ]
    },
    {
     "data": {
      "text/html": [
       "'Wed Oct 19 10:36:54 2022'"
      ],
      "text/latex": [
       "'Wed Oct 19 10:36:54 2022'"
      ],
      "text/markdown": [
       "'Wed Oct 19 10:36:54 2022'"
      ],
      "text/plain": [
       "[1] \"Wed Oct 19 10:36:54 2022\""
      ]
     },
     "metadata": {},
     "output_type": "display_data"
    }
   ],
   "source": [
    "#limpio la memoria\n",
    "rm( list=ls() )  #remove all objects\n",
    "gc()             #garbage collection\n",
    "\n",
    "require(\"data.table\")\n",
    "\n",
    "#------------------------------------------------------------------------------\n",
    "options(error = function() { \n",
    "  traceback(20); \n",
    "  options(error = NULL); \n",
    "  stop(\"exiting after script error\") \n",
    "})\n",
    "#------------------------------------------------------------------------------\n",
    "\n",
    "generar_final_training  <- function( FE, TS, periodo )\n",
    "{\n",
    "  arch_FE  <- paste0( \"./exp/\", FE, \"/dataset.csv.gz\" )\n",
    "  dataset  <- fread( arch_FE )\n",
    "\n",
    "  arch_train_final  <- paste0( \"./exp/\", TS, \"/dataset_train_final.csv.gz\" )\n",
    "\n",
    "  #grabo los datos donde voy a entrenar los Final Models\n",
    "  fwrite( dataset[ foto_mes %in% periodo, ],\n",
    "          file= arch_train_final,\n",
    "          logical01= TRUE,\n",
    "          sep= \",\" )\n",
    "\n",
    "  rm( dataset )\n",
    "  gc()\n",
    "}\n",
    "#------------------------------------------------------------------------------\n",
    "#------------------------------------------------------------------------------\n",
    "#Aqui empieza el programa\n",
    "\n",
    "setwd( \"~/buckets/b1/\" )\n",
    "\n",
    "generar_final_training( \"FE7250\", \"TS7315\", c( 202101, 202102, 202103, 202004,202005,202006,202007,202008,202009,202010,202011,202012) )\n",
    "\n",
    "cat( \"Ha finalizado la actualizacion.\\n\")\n",
    "date()"
   ]
  },
  {
   "cell_type": "code",
   "execution_count": null,
   "id": "28d1b2ad-7870-4e68-9d52-760140398954",
   "metadata": {},
   "outputs": [],
   "source": []
  }
 ],
 "metadata": {
  "kernelspec": {
   "display_name": "R",
   "language": "R",
   "name": "ir"
  },
  "language_info": {
   "codemirror_mode": "r",
   "file_extension": ".r",
   "mimetype": "text/x-r-source",
   "name": "R",
   "pygments_lexer": "r",
   "version": "4.2.1"
  }
 },
 "nbformat": 4,
 "nbformat_minor": 5
}
