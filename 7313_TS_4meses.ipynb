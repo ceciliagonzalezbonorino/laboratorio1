{
 "cells": [
  {
   "cell_type": "code",
   "execution_count": 6,
   "id": "af994e5c-4a0c-45b6-8e63-093e6c7d4435",
   "metadata": {},
   "outputs": [
    {
     "data": {
      "text/html": [
       "<table class=\"dataframe\">\n",
       "<caption>A matrix: 2 × 6 of type dbl</caption>\n",
       "<thead>\n",
       "\t<tr><th></th><th scope=col>used</th><th scope=col>(Mb)</th><th scope=col>gc trigger</th><th scope=col>(Mb)</th><th scope=col>max used</th><th scope=col>(Mb)</th></tr>\n",
       "</thead>\n",
       "<tbody>\n",
       "\t<tr><th scope=row>Ncells</th><td> 694242</td><td>37.1</td><td>   1330081</td><td>   71.1</td><td>   1330081</td><td>   71.1</td></tr>\n",
       "\t<tr><th scope=row>Vcells</th><td>1293420</td><td> 9.9</td><td>6790169134</td><td>51804.9</td><td>7071856562</td><td>53954.0</td></tr>\n",
       "</tbody>\n",
       "</table>\n"
      ],
      "text/latex": [
       "A matrix: 2 × 6 of type dbl\n",
       "\\begin{tabular}{r|llllll}\n",
       "  & used & (Mb) & gc trigger & (Mb) & max used & (Mb)\\\\\n",
       "\\hline\n",
       "\tNcells &  694242 & 37.1 &    1330081 &    71.1 &    1330081 &    71.1\\\\\n",
       "\tVcells & 1293420 &  9.9 & 6790169134 & 51804.9 & 7071856562 & 53954.0\\\\\n",
       "\\end{tabular}\n"
      ],
      "text/markdown": [
       "\n",
       "A matrix: 2 × 6 of type dbl\n",
       "\n",
       "| <!--/--> | used | (Mb) | gc trigger | (Mb) | max used | (Mb) |\n",
       "|---|---|---|---|---|---|---|\n",
       "| Ncells |  694242 | 37.1 |    1330081 |    71.1 |    1330081 |    71.1 |\n",
       "| Vcells | 1293420 |  9.9 | 6790169134 | 51804.9 | 7071856562 | 53954.0 |\n",
       "\n"
      ],
      "text/plain": [
       "       used    (Mb) gc trigger (Mb)    max used   (Mb)   \n",
       "Ncells  694242 37.1    1330081    71.1    1330081    71.1\n",
       "Vcells 1293420  9.9 6790169134 51804.9 7071856562 53954.0"
      ]
     },
     "metadata": {},
     "output_type": "display_data"
    }
   ],
   "source": [
    "#limpio la memoria\n",
    "rm( list=ls() )  #remove all objects\n",
    "gc()             #garbage collection\n",
    "\n",
    "require(\"data.table\")\n",
    "\n",
    "#Parametros del script\n",
    "kexperimento  <- \"TS7313\"\n",
    "\n",
    "kexp_input  <- \"FE7250\"\n",
    "\n",
    "kfuture       <- c( 202105 )\n",
    "\n",
    "kfinal_train  <- c( 202005, 202101, 202102, 202103 )\n",
    "\n",
    "ktraining     <- c( 202005, 202101, 202102, 202103 )\n",
    "kvalidation   <- c( 202005, 202101, 202102, 202103 )\n",
    "ktesting      <- c( 202005, 202101, 202102, 202103 )\n",
    "\n",
    "# FIN Parametros del script\n",
    "\n",
    "#------------------------------------------------------------------------------\n",
    "\n",
    "options(error = function() { \n",
    "  traceback(20); \n",
    "  options(error = NULL); \n",
    "  stop(\"exiting after script error\") \n",
    "})\n",
    "\n",
    "#------------------------------------------------------------------------------\n",
    "#Aqui empieza el programa\n",
    "\n",
    "setwd( \"~/buckets/b1/\" )\n",
    "\n",
    "#cargo el dataset donde voy a entrenar\n",
    "#esta en la carpeta del exp_input y siempre se llama  dataset.csv.gz\n",
    "dataset_input  <- paste0( \"./exp/\", kexp_input, \"/dataset.csv.gz\" )\n",
    "dataset  <- fread( dataset_input )\n",
    "\n",
    "\n",
    "#creo la carpeta donde va el experimento\n",
    "dir.create( paste0( \"./exp/\", kexperimento, \"/\"), showWarnings = FALSE )\n",
    "setwd(paste0( \"./exp/\", kexperimento, \"/\"))   #Establezco el Working Directory DEL EXPERIMENTO\n",
    "\n",
    "\n",
    "setorder( dataset, foto_mes, numero_de_cliente )\n",
    "\n",
    "#grabo los datos del futuro\n",
    "fwrite( dataset[ foto_mes %in% kfuture, ],\n",
    "        file= \"dataset_future.csv.gz\",\n",
    "        logical01= TRUE,\n",
    "        sep= \",\" )\n",
    "\n",
    "#grabo los datos donde voy a entrenar los Final Models\n",
    "fwrite( dataset[ foto_mes %in% kfinal_train, ],\n",
    "        file= \"dataset_train_final.csv.gz\",\n",
    "        logical01= TRUE,\n",
    "        sep= \",\" )\n",
    "\n",
    "\n",
    "#grabo los datos donde voy a hacer el training y la optimizacion de hiperparametros\n",
    "dataset[  , fold_train := 0L ]\n",
    "dataset[ foto_mes %in% ktraining, fold_train := 1L ]\n",
    "\n",
    "dataset[  , fold_validate := 0L ]\n",
    "dataset[ foto_mes %in% kvalidation, fold_validate := 1L ]\n",
    "\n",
    "dataset[  , fold_test := 0L ]\n",
    "dataset[ foto_mes %in% ktesting, fold_test := 1L ]\n",
    "\n",
    "fwrite( dataset[ fold_train + fold_validate + fold_test >= 1 , ],\n",
    "        file= \"dataset_training.csv.gz\",\n",
    "        logical01= TRUE,\n",
    "        sep= \",\" )\n"
   ]
  },
  {
   "cell_type": "code",
   "execution_count": 7,
   "id": "3fed13b4-285b-4e31-9b87-0b62d4bb060c",
   "metadata": {},
   "outputs": [
    {
     "data": {
      "text/html": [
       "<table class=\"dataframe\">\n",
       "<caption>A matrix: 2 × 6 of type dbl</caption>\n",
       "<thead>\n",
       "\t<tr><th></th><th scope=col>used</th><th scope=col>(Mb)</th><th scope=col>gc trigger</th><th scope=col>(Mb)</th><th scope=col>max used</th><th scope=col>(Mb)</th></tr>\n",
       "</thead>\n",
       "<tbody>\n",
       "\t<tr><th scope=row>Ncells</th><td> 731362</td><td>39.1</td><td>   1330081</td><td>   71.1</td><td>   1330081</td><td>   71.1</td></tr>\n",
       "\t<tr><th scope=row>Vcells</th><td>1448750</td><td>11.1</td><td>5432135308</td><td>41444.0</td><td>7071856562</td><td>53954.0</td></tr>\n",
       "</tbody>\n",
       "</table>\n"
      ],
      "text/latex": [
       "A matrix: 2 × 6 of type dbl\n",
       "\\begin{tabular}{r|llllll}\n",
       "  & used & (Mb) & gc trigger & (Mb) & max used & (Mb)\\\\\n",
       "\\hline\n",
       "\tNcells &  731362 & 39.1 &    1330081 &    71.1 &    1330081 &    71.1\\\\\n",
       "\tVcells & 1448750 & 11.1 & 5432135308 & 41444.0 & 7071856562 & 53954.0\\\\\n",
       "\\end{tabular}\n"
      ],
      "text/markdown": [
       "\n",
       "A matrix: 2 × 6 of type dbl\n",
       "\n",
       "| <!--/--> | used | (Mb) | gc trigger | (Mb) | max used | (Mb) |\n",
       "|---|---|---|---|---|---|---|\n",
       "| Ncells |  731362 | 39.1 |    1330081 |    71.1 |    1330081 |    71.1 |\n",
       "| Vcells | 1448750 | 11.1 | 5432135308 | 41444.0 | 7071856562 | 53954.0 |\n",
       "\n"
      ],
      "text/plain": [
       "       used    (Mb) gc trigger (Mb)    max used   (Mb)   \n",
       "Ncells  731362 39.1    1330081    71.1    1330081    71.1\n",
       "Vcells 1448750 11.1 5432135308 41444.0 7071856562 53954.0"
      ]
     },
     "metadata": {},
     "output_type": "display_data"
    },
    {
     "data": {
      "text/html": [
       "<table class=\"dataframe\">\n",
       "<caption>A matrix: 2 × 6 of type dbl</caption>\n",
       "<thead>\n",
       "\t<tr><th></th><th scope=col>used</th><th scope=col>(Mb)</th><th scope=col>gc trigger</th><th scope=col>(Mb)</th><th scope=col>max used</th><th scope=col>(Mb)</th></tr>\n",
       "</thead>\n",
       "<tbody>\n",
       "\t<tr><th scope=row>Ncells</th><td> 731199</td><td>39.1</td><td>   1330081</td><td>   71.1</td><td>   1330081</td><td>   71.1</td></tr>\n",
       "\t<tr><th scope=row>Vcells</th><td>1385850</td><td>10.6</td><td>4345708247</td><td>33155.2</td><td>7071856562</td><td>53954.0</td></tr>\n",
       "</tbody>\n",
       "</table>\n"
      ],
      "text/latex": [
       "A matrix: 2 × 6 of type dbl\n",
       "\\begin{tabular}{r|llllll}\n",
       "  & used & (Mb) & gc trigger & (Mb) & max used & (Mb)\\\\\n",
       "\\hline\n",
       "\tNcells &  731199 & 39.1 &    1330081 &    71.1 &    1330081 &    71.1\\\\\n",
       "\tVcells & 1385850 & 10.6 & 4345708247 & 33155.2 & 7071856562 & 53954.0\\\\\n",
       "\\end{tabular}\n"
      ],
      "text/markdown": [
       "\n",
       "A matrix: 2 × 6 of type dbl\n",
       "\n",
       "| <!--/--> | used | (Mb) | gc trigger | (Mb) | max used | (Mb) |\n",
       "|---|---|---|---|---|---|---|\n",
       "| Ncells |  731199 | 39.1 |    1330081 |    71.1 |    1330081 |    71.1 |\n",
       "| Vcells | 1385850 | 10.6 | 4345708247 | 33155.2 | 7071856562 | 53954.0 |\n",
       "\n"
      ],
      "text/plain": [
       "       used    (Mb) gc trigger (Mb)    max used   (Mb)   \n",
       "Ncells  731199 39.1    1330081    71.1    1330081    71.1\n",
       "Vcells 1385850 10.6 4345708247 33155.2 7071856562 53954.0"
      ]
     },
     "metadata": {},
     "output_type": "display_data"
    },
    {
     "data": {
      "text/html": [
       "<table class=\"dataframe\">\n",
       "<caption>A matrix: 2 × 6 of type dbl</caption>\n",
       "<thead>\n",
       "\t<tr><th></th><th scope=col>used</th><th scope=col>(Mb)</th><th scope=col>gc trigger</th><th scope=col>(Mb)</th><th scope=col>max used</th><th scope=col>(Mb)</th></tr>\n",
       "</thead>\n",
       "<tbody>\n",
       "\t<tr><th scope=row>Ncells</th><td> 732051</td><td>39.1</td><td>   1330081</td><td>   71.1</td><td>   1330081</td><td>   71.1</td></tr>\n",
       "\t<tr><th scope=row>Vcells</th><td>1388054</td><td>10.6</td><td>4171943917</td><td>31829.5</td><td>7071856562</td><td>53954.0</td></tr>\n",
       "</tbody>\n",
       "</table>\n"
      ],
      "text/latex": [
       "A matrix: 2 × 6 of type dbl\n",
       "\\begin{tabular}{r|llllll}\n",
       "  & used & (Mb) & gc trigger & (Mb) & max used & (Mb)\\\\\n",
       "\\hline\n",
       "\tNcells &  732051 & 39.1 &    1330081 &    71.1 &    1330081 &    71.1\\\\\n",
       "\tVcells & 1388054 & 10.6 & 4171943917 & 31829.5 & 7071856562 & 53954.0\\\\\n",
       "\\end{tabular}\n"
      ],
      "text/markdown": [
       "\n",
       "A matrix: 2 × 6 of type dbl\n",
       "\n",
       "| <!--/--> | used | (Mb) | gc trigger | (Mb) | max used | (Mb) |\n",
       "|---|---|---|---|---|---|---|\n",
       "| Ncells |  732051 | 39.1 |    1330081 |    71.1 |    1330081 |    71.1 |\n",
       "| Vcells | 1388054 | 10.6 | 4171943917 | 31829.5 | 7071856562 | 53954.0 |\n",
       "\n"
      ],
      "text/plain": [
       "       used    (Mb) gc trigger (Mb)    max used   (Mb)   \n",
       "Ncells  732051 39.1    1330081    71.1    1330081    71.1\n",
       "Vcells 1388054 10.6 4171943917 31829.5 7071856562 53954.0"
      ]
     },
     "metadata": {},
     "output_type": "display_data"
    },
    {
     "data": {
      "text/html": [
       "<table class=\"dataframe\">\n",
       "<caption>A matrix: 2 × 6 of type dbl</caption>\n",
       "<thead>\n",
       "\t<tr><th></th><th scope=col>used</th><th scope=col>(Mb)</th><th scope=col>gc trigger</th><th scope=col>(Mb)</th><th scope=col>max used</th><th scope=col>(Mb)</th></tr>\n",
       "</thead>\n",
       "<tbody>\n",
       "\t<tr><th scope=row>Ncells</th><td> 732063</td><td>39.1</td><td>   1330081</td><td>   71.1</td><td>   1330081</td><td>   71.1</td></tr>\n",
       "\t<tr><th scope=row>Vcells</th><td>1388062</td><td>10.6</td><td>4005130160</td><td>30556.8</td><td>7071856562</td><td>53954.0</td></tr>\n",
       "</tbody>\n",
       "</table>\n"
      ],
      "text/latex": [
       "A matrix: 2 × 6 of type dbl\n",
       "\\begin{tabular}{r|llllll}\n",
       "  & used & (Mb) & gc trigger & (Mb) & max used & (Mb)\\\\\n",
       "\\hline\n",
       "\tNcells &  732063 & 39.1 &    1330081 &    71.1 &    1330081 &    71.1\\\\\n",
       "\tVcells & 1388062 & 10.6 & 4005130160 & 30556.8 & 7071856562 & 53954.0\\\\\n",
       "\\end{tabular}\n"
      ],
      "text/markdown": [
       "\n",
       "A matrix: 2 × 6 of type dbl\n",
       "\n",
       "| <!--/--> | used | (Mb) | gc trigger | (Mb) | max used | (Mb) |\n",
       "|---|---|---|---|---|---|---|\n",
       "| Ncells |  732063 | 39.1 |    1330081 |    71.1 |    1330081 |    71.1 |\n",
       "| Vcells | 1388062 | 10.6 | 4005130160 | 30556.8 | 7071856562 | 53954.0 |\n",
       "\n"
      ],
      "text/plain": [
       "       used    (Mb) gc trigger (Mb)    max used   (Mb)   \n",
       "Ncells  732063 39.1    1330081    71.1    1330081    71.1\n",
       "Vcells 1388062 10.6 4005130160 30556.8 7071856562 53954.0"
      ]
     },
     "metadata": {},
     "output_type": "display_data"
    },
    {
     "name": "stdout",
     "output_type": "stream",
     "text": [
      "Ha finalizado la actualizacion.\n"
     ]
    },
    {
     "data": {
      "text/html": [
       "'Tue Oct 18 13:54:19 2022'"
      ],
      "text/latex": [
       "'Tue Oct 18 13:54:19 2022'"
      ],
      "text/markdown": [
       "'Tue Oct 18 13:54:19 2022'"
      ],
      "text/plain": [
       "[1] \"Tue Oct 18 13:54:19 2022\""
      ]
     },
     "metadata": {},
     "output_type": "display_data"
    }
   ],
   "source": [
    "#limpio la memoria\n",
    "rm( list=ls() )  #remove all objects\n",
    "gc()             #garbage collection\n",
    "\n",
    "require(\"data.table\")\n",
    "\n",
    "#------------------------------------------------------------------------------\n",
    "options(error = function() { \n",
    "  traceback(20); \n",
    "  options(error = NULL); \n",
    "  stop(\"exiting after script error\") \n",
    "})\n",
    "#------------------------------------------------------------------------------\n",
    "\n",
    "generar_final_training  <- function( FE, TS, periodo )\n",
    "{\n",
    "  arch_FE  <- paste0( \"./exp/\", FE, \"/dataset.csv.gz\" )\n",
    "  dataset  <- fread( arch_FE )\n",
    "\n",
    "  arch_train_final  <- paste0( \"./exp/\", TS, \"/dataset_train_final.csv.gz\" )\n",
    "\n",
    "  #grabo los datos donde voy a entrenar los Final Models\n",
    "  fwrite( dataset[ foto_mes %in% periodo, ],\n",
    "          file= arch_train_final,\n",
    "          logical01= TRUE,\n",
    "          sep= \",\" )\n",
    "\n",
    "  rm( dataset )\n",
    "  gc()\n",
    "}\n",
    "#------------------------------------------------------------------------------\n",
    "#------------------------------------------------------------------------------\n",
    "#Aqui empieza el programa\n",
    "\n",
    "setwd( \"~/buckets/b1/\" )\n",
    "\n",
    "\n",
    "generar_final_training( \"FE7250\", \"TS7310\", c( 202103 ) )\n",
    "generar_final_training( \"FE7250\", \"TS7311\", c( 202101, 202102, 202103 ) )\n",
    "#generar_final_training( \"FE7250\", \"TS7312\", c( 202012, 202101, 202102, 202103 ) )\n",
    "generar_final_training( \"FE7250\", \"TS7313\", c( 202005, 202101, 202102, 202103 ) )\n",
    "\n",
    "#generar_final_training( \"FE7252\", \"TS7314\", c( 202101, 202102, 202103 ) )\n",
    "#generar_final_training( \"FE7252\", \"TS7315\", c( 202101, 202102, 202103 ) )\n",
    "\n",
    "#generar_final_training( \"FE7253\", \"TS7316\", c( 202101, 202102, 202103 ) )\n",
    "\n",
    "#generar_final_training( \"FE7256\", \"TS7318\", c( 202101, 202102, 202103 ) )\n",
    "\n",
    "cat( \"Ha finalizado la actualizacion.\\n\")\n",
    "date()"
   ]
  },
  {
   "cell_type": "code",
   "execution_count": null,
   "id": "003630f0-9379-469f-9a82-7b248d14f191",
   "metadata": {},
   "outputs": [],
   "source": []
  }
 ],
 "metadata": {
  "kernelspec": {
   "display_name": "R",
   "language": "R",
   "name": "ir"
  },
  "language_info": {
   "codemirror_mode": "r",
   "file_extension": ".r",
   "mimetype": "text/x-r-source",
   "name": "R",
   "pygments_lexer": "r",
   "version": "4.2.1"
  }
 },
 "nbformat": 4,
 "nbformat_minor": 5
}
