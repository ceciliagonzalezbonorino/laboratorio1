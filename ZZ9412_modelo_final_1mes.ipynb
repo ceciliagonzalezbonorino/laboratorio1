{
 "cells": [
  {
   "cell_type": "code",
   "execution_count": 6,
   "id": "816112bc-ae7f-4221-b91c-ca8dd44ba4ee",
   "metadata": {},
   "outputs": [],
   "source": [
    "setwd( \"~/buckets/b1/\" )\n"
   ]
  },
  {
   "cell_type": "code",
   "execution_count": 9,
   "id": "4bd8c5f5-ac54-475e-a86a-9f57d9813a47",
   "metadata": {},
   "outputs": [
    {
     "data": {
      "text/html": [
       "<table class=\"dataframe\">\n",
       "<caption>A matrix: 2 × 6 of type dbl</caption>\n",
       "<thead>\n",
       "\t<tr><th></th><th scope=col>used</th><th scope=col>(Mb)</th><th scope=col>gc trigger</th><th scope=col>(Mb)</th><th scope=col>max used</th><th scope=col>(Mb)</th></tr>\n",
       "</thead>\n",
       "<tbody>\n",
       "\t<tr><th scope=row>Ncells</th><td>1715667</td><td>91.7</td><td>2814560</td><td>150.4</td><td>2814560</td><td>150.4</td></tr>\n",
       "\t<tr><th scope=row>Vcells</th><td>3009636</td><td>23.0</td><td>8388608</td><td> 64.0</td><td>4925148</td><td> 37.6</td></tr>\n",
       "</tbody>\n",
       "</table>\n"
      ],
      "text/latex": [
       "A matrix: 2 × 6 of type dbl\n",
       "\\begin{tabular}{r|llllll}\n",
       "  & used & (Mb) & gc trigger & (Mb) & max used & (Mb)\\\\\n",
       "\\hline\n",
       "\tNcells & 1715667 & 91.7 & 2814560 & 150.4 & 2814560 & 150.4\\\\\n",
       "\tVcells & 3009636 & 23.0 & 8388608 &  64.0 & 4925148 &  37.6\\\\\n",
       "\\end{tabular}\n"
      ],
      "text/markdown": [
       "\n",
       "A matrix: 2 × 6 of type dbl\n",
       "\n",
       "| <!--/--> | used | (Mb) | gc trigger | (Mb) | max used | (Mb) |\n",
       "|---|---|---|---|---|---|---|\n",
       "| Ncells | 1715667 | 91.7 | 2814560 | 150.4 | 2814560 | 150.4 |\n",
       "| Vcells | 3009636 | 23.0 | 8388608 |  64.0 | 4925148 |  37.6 |\n",
       "\n"
      ],
      "text/plain": [
       "       used    (Mb) gc trigger (Mb)  max used (Mb) \n",
       "Ncells 1715667 91.7 2814560    150.4 2814560  150.4\n",
       "Vcells 3009636 23.0 8388608     64.0 4925148   37.6"
      ]
     },
     "metadata": {},
     "output_type": "display_data"
    }
   ],
   "source": [
    "#Necesita para correr en Google Cloud\n",
    "# 128 GB de memoria RAM\n",
    "# 256 GB de espacio en el disco local\n",
    "#   8 vCPU\n",
    "\n",
    "\n",
    "#limpio la memoria\n",
    "rm( list=ls() )  #remove all objects\n",
    "gc()             #garbage collection\n",
    "\n",
    "require(\"data.table\")\n",
    "\n",
    "require(\"lightgbm\")\n",
    "\n",
    "#Parametros del script\n",
    "kexperimento  <- \"ZZ9412_1mes\"\n",
    "kexp_input  <- \"HT7412_1mes\"\n",
    "\n",
    "kmodelos  <- 2\n",
    "# FIN Parametros del script\n",
    "\n",
    "ksemilla  <- 690619\n",
    "\n",
    "#------------------------------------------------------------------------------\n",
    "options(error = function() { \n",
    "  traceback(20); \n",
    "  options(error = NULL); \n",
    "  stop(\"exiting after script error\") \n",
    "})\n",
    "#------------------------------------------------------------------------------\n",
    "#------------------------------------------------------------------------------\n",
    "#Aqui empieza el programa\n",
    "\n",
    "base_dir <- \"~/buckets/b1/\"\n",
    "\n",
    "#creo la carpeta donde va el experimento\n",
    "dir.create( paste0( base_dir, \"exp/\", kexperimento, \"/\"), showWarnings = FALSE )\n",
    "setwd(paste0( base_dir, \"exp/\", kexperimento, \"/\"))   #Establezco el Working Directory DEL EXPERIMENTO\n"
   ]
  },
  {
   "cell_type": "code",
   "execution_count": 12,
   "id": "67e02e94-feba-4ec4-8b2b-98a4ae113e57",
   "metadata": {},
   "outputs": [],
   "source": [
    "#leo la salida de la optimizaciob bayesiana\n",
    "tb_log  <- fread( \"../HT7412_1mes/BO_log_1mes.txt\" )\n",
    "setorder( tb_log, -ganancia )"
   ]
  },
  {
   "cell_type": "code",
   "execution_count": 13,
   "id": "c68770a1-e885-44d8-a229-eb348573cf52",
   "metadata": {},
   "outputs": [],
   "source": [
    "#leo el nombre del expermento de la Training Strategy\n",
    "arch_TS  <- paste0( base_dir, \"exp/\", kexp_input, \"/TrainingStrategy.txt\" )\n",
    "TS  <- readLines( arch_TS, warn=FALSE )\n"
   ]
  },
  {
   "cell_type": "code",
   "execution_count": 15,
   "id": "6a15c576-fc3b-44b1-b818-945fe129b32e",
   "metadata": {},
   "outputs": [],
   "source": [
    "#leo el dataset donde voy a entrenar el modelo final\n",
    "arch_dataset  <- paste0( base_dir, \"exp/\", \"TS7310\", \"/dataset_train_final.csv.gz\" )\n",
    "dataset  <- fread( arch_dataset )\n"
   ]
  },
  {
   "cell_type": "code",
   "execution_count": 16,
   "id": "51d5b3ce-25a6-4257-8f24-0197cd1f243f",
   "metadata": {},
   "outputs": [
    {
     "name": "stderr",
     "output_type": "stream",
     "text": [
      "── \u001b[1mAttaching packages\u001b[22m ─────────────────────────────────────── tidyverse 1.3.2 ──\n",
      "\u001b[32m✔\u001b[39m \u001b[34mggplot2\u001b[39m 3.3.6     \u001b[32m✔\u001b[39m \u001b[34mpurrr  \u001b[39m 0.3.4\n",
      "\u001b[32m✔\u001b[39m \u001b[34mtibble \u001b[39m 3.1.8     \u001b[32m✔\u001b[39m \u001b[34mdplyr  \u001b[39m 1.0.9\n",
      "\u001b[32m✔\u001b[39m \u001b[34mtidyr  \u001b[39m 1.2.0     \u001b[32m✔\u001b[39m \u001b[34mstringr\u001b[39m 1.4.1\n",
      "\u001b[32m✔\u001b[39m \u001b[34mreadr  \u001b[39m 2.1.2     \u001b[32m✔\u001b[39m \u001b[34mforcats\u001b[39m 0.5.2\n",
      "── \u001b[1mConflicts\u001b[22m ────────────────────────────────────────── tidyverse_conflicts() ──\n",
      "\u001b[31m✖\u001b[39m \u001b[34mdplyr\u001b[39m::\u001b[32mbetween()\u001b[39m   masks \u001b[34mdata.table\u001b[39m::between()\n",
      "\u001b[31m✖\u001b[39m \u001b[34mdplyr\u001b[39m::\u001b[32mfilter()\u001b[39m    masks \u001b[34mstats\u001b[39m::filter()\n",
      "\u001b[31m✖\u001b[39m \u001b[34mdplyr\u001b[39m::\u001b[32mfirst()\u001b[39m     masks \u001b[34mdata.table\u001b[39m::first()\n",
      "\u001b[31m✖\u001b[39m \u001b[34mdplyr\u001b[39m::\u001b[32mlag()\u001b[39m       masks \u001b[34mstats\u001b[39m::lag()\n",
      "\u001b[31m✖\u001b[39m \u001b[34mdplyr\u001b[39m::\u001b[32mlast()\u001b[39m      masks \u001b[34mdata.table\u001b[39m::last()\n",
      "\u001b[31m✖\u001b[39m \u001b[34mdplyr\u001b[39m::\u001b[32mslice()\u001b[39m     masks \u001b[34mlightgbm\u001b[39m::slice()\n",
      "\u001b[31m✖\u001b[39m \u001b[34mpurrr\u001b[39m::\u001b[32mtranspose()\u001b[39m masks \u001b[34mdata.table\u001b[39m::transpose()\n"
     ]
    }
   ],
   "source": [
    "library (\"tidyverse\")"
   ]
  },
  {
   "cell_type": "code",
   "execution_count": 17,
   "id": "a1e4fbbf-5776-4bfb-87b4-fd34d5a83231",
   "metadata": {},
   "outputs": [
    {
     "data": {
      "text/html": [
       "202103"
      ],
      "text/latex": [
       "202103"
      ],
      "text/markdown": [
       "202103"
      ],
      "text/plain": [
       "[1] 202103"
      ]
     },
     "metadata": {},
     "output_type": "display_data"
    }
   ],
   "source": [
    "unique (dataset$foto_mes) # hice la BO en marzo 21 y entreno en el mismo mes"
   ]
  },
  {
   "cell_type": "code",
   "execution_count": 18,
   "id": "567f4ade-177a-4670-a2a6-66d04993a389",
   "metadata": {},
   "outputs": [],
   "source": [
    "#leo el dataset donde voy a aplicar el modelo final\n",
    "arch_future  <- paste0( base_dir, \"exp/\", \"TS7310\", \"/dataset_future.csv.gz\" )\n",
    "dfuture <- fread( arch_future )\n"
   ]
  },
  {
   "cell_type": "code",
   "execution_count": null,
   "id": "36638293-0ec1-44d9-a242-2057315945db",
   "metadata": {},
   "outputs": [
    {
     "name": "stderr",
     "output_type": "stream",
     "text": [
      "Warning message in lgb.get.default.num.threads():\n",
      "“Optional package 'RhpcBLASctl' not found. Will use default number of OpenMP threads.”\n"
     ]
    }
   ],
   "source": [
    "dataset[ , clase01 := ifelse( clase_ternaria %in% c(\"BAJA+1\",\"BAJA+2\"), 1, 0 )  ]\n",
    "\n",
    "campos_buenos  <- setdiff( colnames(dataset),\n",
    "                           c( \"clase_ternaria\", \"clase01\") )\n",
    "\n",
    "\n",
    "#genero un modelo para cada uno de las modelos_qty MEJORES iteraciones de la Bayesian Optimization\n",
    "for( i in  1:kmodelos )\n",
    "{\n",
    "  parametros  <- as.list( copy( tb_log[ i ] ) )\n",
    "  iteracion_bayesiana  <- parametros$iteracion_bayesiana\n",
    "\n",
    "  arch_modelo  <- paste0( \"modelo_\" ,\n",
    "                          sprintf( \"%02d\", i ),\n",
    "                          \"_\",\n",
    "                          sprintf( \"%03d\", iteracion_bayesiana ),\n",
    "                          \".model\" )\n",
    "\n",
    "\n",
    "  #creo CADA VEZ el dataset de lightgbm\n",
    "  dtrain  <- lgb.Dataset( data=    data.matrix( dataset[ , campos_buenos, with=FALSE] ),\n",
    "                          label=   dataset[ , clase01],\n",
    "                          weight=  dataset[ , ifelse( clase_ternaria %in% c(\"BAJA+2\"), 1.0000001, 1.0)],\n",
    "                          free_raw_data= FALSE\n",
    "                        )\n",
    "\n",
    "  ganancia  <- parametros$ganancia\n",
    "\n",
    "  #elimino los parametros que no son de lightgbm\n",
    "  parametros$experimento  <- NULL\n",
    "  parametros$cols         <- NULL\n",
    "  parametros$rows         <- NULL\n",
    "  parametros$fecha        <- NULL\n",
    "  parametros$prob_corte   <- NULL\n",
    "  parametros$estimulos    <- NULL\n",
    "  parametros$ganancia     <- NULL\n",
    "  parametros$iteracion_bayesiana  <- NULL\n",
    "\n",
    "  #Utilizo la semilla definida en este script\n",
    "  parametros$seed  <- ksemilla\n",
    "  \n",
    "  #genero el modelo entrenando en los datos finales\n",
    "  set.seed( parametros$seed )\n",
    "  modelo_final  <- lightgbm( data= dtrain,\n",
    "                             param=  parametros,\n",
    "                             verbose= -100 )\n",
    "\n",
    "  #grabo el modelo, achivo .model\n",
    "  lgb.save( modelo_final,\n",
    "            file= arch_modelo )\n",
    "\n",
    "  #creo y grabo la importancia de variables\n",
    "  tb_importancia  <- as.data.table( lgb.importance( modelo_final ) )\n",
    "  fwrite( tb_importancia,\n",
    "          file= paste0( \"impo_\", \n",
    "                        sprintf( \"%02d\", i ),\n",
    "                        \"_\",\n",
    "                        sprintf( \"%03d\", iteracion_bayesiana ),\n",
    "                        \".txt\" ),\n",
    "          sep= \"\\t\" )\n",
    "\n",
    "\n",
    "  #genero la prediccion, Scoring\n",
    "  prediccion  <- predict( modelo_final,\n",
    "                          data.matrix( dfuture[ , campos_buenos, with=FALSE ] ) )\n",
    "\n",
    "  tb_prediccion  <- dfuture[  , list( numero_de_cliente, foto_mes ) ]\n",
    "  tb_prediccion[ , prob := prediccion ]\n",
    "\n",
    "\n",
    "  nom_pred  <- paste0( \"pred_\",\n",
    "                       sprintf( \"%02d\", i ),\n",
    "                       \"_\",\n",
    "                       sprintf( \"%03d\", iteracion_bayesiana),\n",
    "                       \".csv\"  )\n",
    "\n",
    "  fwrite( tb_prediccion,\n",
    "          file= nom_pred,\n",
    "          sep= \"\\t\" )\n",
    "\n",
    "\n",
    "  #genero los archivos para Kaggle\n",
    "  cortes  <- seq( from=  7000,\n",
    "                  to=   11000,\n",
    "                  by=     500 )\n",
    "\n",
    "\n",
    "  setorder( tb_prediccion, -prob )\n",
    "\n",
    "  for( corte in cortes )\n",
    "  {\n",
    "    tb_prediccion[  , Predicted := 0L ]\n",
    "    tb_prediccion[ 1:corte, Predicted := 1L ]\n",
    "\n",
    "    nom_submit  <- paste0( kexperimento, \n",
    "                           \"_\",\n",
    "                           sprintf( \"%02d\", i ),\n",
    "                           \"_\",\n",
    "                           sprintf( \"%03d\", iteracion_bayesiana ),\n",
    "                           \"_\",\n",
    "                           sprintf( \"%05d\", corte ),\n",
    "                           \".csv\" )\n",
    "\n",
    "    fwrite(  tb_prediccion[ , list( numero_de_cliente, Predicted ) ],\n",
    "             file= nom_submit,\n",
    "             sep= \",\" )\n",
    "\n",
    "\n",
    "  }\n",
    "\n",
    "\n",
    "  #borro y limpio la memoria para la vuelta siguiente del for\n",
    "  rm( tb_prediccion )\n",
    "  rm( tb_importancia )\n",
    "  rm( modelo_final)\n",
    "  rm( parametros )\n",
    "  rm( dtrain )\n",
    "  gc()\n",
    "}\n",
    "\n"
   ]
  },
  {
   "cell_type": "code",
   "execution_count": null,
   "id": "870f3ea0-28e5-4d23-9033-21e458f49ff9",
   "metadata": {},
   "outputs": [],
   "source": []
  }
 ],
 "metadata": {
  "kernelspec": {
   "display_name": "R",
   "language": "R",
   "name": "ir"
  },
  "language_info": {
   "codemirror_mode": "r",
   "file_extension": ".r",
   "mimetype": "text/x-r-source",
   "name": "R",
   "pygments_lexer": "r",
   "version": "4.2.1"
  }
 },
 "nbformat": 4,
 "nbformat_minor": 5
}
